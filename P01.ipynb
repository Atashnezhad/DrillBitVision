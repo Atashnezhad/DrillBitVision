{
 "cells": [
  {
   "cell_type": "code",
   "execution_count": 4,
   "outputs": [
    {
     "ename": "ModuleNotFoundError",
     "evalue": "No module named 'bing_image_downloader'",
     "output_type": "error",
     "traceback": [
      "\u001B[0;31m---------------------------------------------------------------------------\u001B[0m",
      "\u001B[0;31mModuleNotFoundError\u001B[0m                       Traceback (most recent call last)",
      "\u001B[0;32m<ipython-input-4-182ff2ad336f>\u001B[0m in \u001B[0;36m<module>\u001B[0;34m()\u001B[0m\n\u001B[1;32m      1\u001B[0m \u001B[0;31m#####################################\u001B[0m\u001B[0;34m\u001B[0m\u001B[0;34m\u001B[0m\u001B[0m\n\u001B[1;32m      2\u001B[0m \u001B[0;31m# Bing\u001B[0m\u001B[0;34m\u001B[0m\u001B[0;34m\u001B[0m\u001B[0m\n\u001B[0;32m----> 3\u001B[0;31m \u001B[0;32mfrom\u001B[0m \u001B[0mbing_image_downloader\u001B[0m \u001B[0;32mimport\u001B[0m \u001B[0mdownloader\u001B[0m\u001B[0;34m\u001B[0m\u001B[0m\n\u001B[0m",
      "\u001B[0;31mModuleNotFoundError\u001B[0m: No module named 'bing_image_downloader'"
     ]
    }
   ],
   "source": [
    "#####################################\n",
    "# Bing\n",
    "from bing_image_downloader import downloader"
   ],
   "metadata": {
    "collapsed": false,
    "ExecuteTime": {
     "end_time": "2023-05-07T20:25:17.336048Z",
     "start_time": "2023-05-07T20:25:17.324124Z"
    }
   }
  },
  {
   "cell_type": "code",
   "execution_count": 5,
   "outputs": [
    {
     "name": "stdout",
     "output_type": "stream",
     "text": [
      "Requirement already satisfied: bing_image_downloader in ./venv/lib/python3.8/site-packages (1.1.2)\r\n"
     ]
    }
   ],
   "source": [
    "!pip install bing_image_downloader"
   ],
   "metadata": {
    "collapsed": false,
    "ExecuteTime": {
     "end_time": "2023-05-07T20:25:31.593424Z",
     "start_time": "2023-05-07T20:25:29.803752Z"
    }
   }
  },
  {
   "cell_type": "markdown",
   "source": [
    "# Download images for the following keywords\n",
    "* PDC bit\n",
    "* Rollercone bit"
   ],
   "metadata": {
    "collapsed": false
   }
  },
  {
   "cell_type": "code",
   "execution_count": 6,
   "outputs": [
    {
     "ename": "NameError",
     "evalue": "name 'downloader' is not defined",
     "output_type": "error",
     "traceback": [
      "\u001B[0;31m---------------------------------------------------------------------------\u001B[0m",
      "\u001B[0;31mNameError\u001B[0m                                 Traceback (most recent call last)",
      "\u001B[0;32m<ipython-input-6-bbbfdb97b91e>\u001B[0m in \u001B[0;36m<module>\u001B[0;34m()\u001B[0m\n\u001B[0;32m----> 1\u001B[0;31m downloader.download(\"pdc bit\", limit=10, output_dir='dataset',\n\u001B[0m\u001B[1;32m      2\u001B[0m                     adult_filter_off=True, force_replace=False, timeout=60)\n",
      "\u001B[0;31mNameError\u001B[0m: name 'downloader' is not defined"
     ]
    }
   ],
   "source": [
    "downloader.download(\"pdc bit\", limit=10, output_dir='dataset',\n",
    "                    adult_filter_off=True, force_replace=False, timeout=60)"
   ],
   "metadata": {
    "collapsed": false,
    "ExecuteTime": {
     "end_time": "2023-05-07T20:25:34.210270Z",
     "start_time": "2023-05-07T20:25:34.199590Z"
    }
   }
  },
  {
   "cell_type": "code",
   "execution_count": 7,
   "outputs": [
    {
     "ename": "NameError",
     "evalue": "name 'downloader' is not defined",
     "output_type": "error",
     "traceback": [
      "\u001B[0;31m---------------------------------------------------------------------------\u001B[0m",
      "\u001B[0;31mNameError\u001B[0m                                 Traceback (most recent call last)",
      "\u001B[0;32m<ipython-input-7-a988eecbab04>\u001B[0m in \u001B[0;36m<module>\u001B[0;34m()\u001B[0m\n\u001B[0;32m----> 1\u001B[0;31m downloader.download(\"Rollercone bit\", limit=10, output_dir='dataset',\n\u001B[0m\u001B[1;32m      2\u001B[0m                     adult_filter_off=True, force_replace=False, timeout=60)\n",
      "\u001B[0;31mNameError\u001B[0m: name 'downloader' is not defined"
     ]
    }
   ],
   "source": [
    "downloader.download(\"Rollercone bit\", limit=10, output_dir='dataset',\n",
    "                    adult_filter_off=True, force_replace=False, timeout=60)"
   ],
   "metadata": {
    "collapsed": false,
    "ExecuteTime": {
     "end_time": "2023-05-07T20:25:35.182382Z",
     "start_time": "2023-05-07T20:25:35.171849Z"
    }
   }
  },
  {
   "cell_type": "code",
   "execution_count": null,
   "outputs": [],
   "source": [],
   "metadata": {
    "collapsed": false
   }
  }
 ],
 "metadata": {
  "kernelspec": {
   "display_name": "Python 3",
   "language": "python",
   "name": "python3"
  },
  "language_info": {
   "codemirror_mode": {
    "name": "ipython",
    "version": 2
   },
   "file_extension": ".py",
   "mimetype": "text/x-python",
   "name": "python",
   "nbconvert_exporter": "python",
   "pygments_lexer": "ipython2",
   "version": "2.7.6"
  }
 },
 "nbformat": 4,
 "nbformat_minor": 0
}
